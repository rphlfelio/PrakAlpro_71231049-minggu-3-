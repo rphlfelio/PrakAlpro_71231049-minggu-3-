{
 "cells": [
  {
   "cell_type": "code",
   "execution_count": 12,
   "id": "2d858e49",
   "metadata": {},
   "outputs": [
    {
     "name": "stdout",
     "output_type": "stream",
     "text": [
      "Masukkan suhu tubuh: 29\n",
      "Anda tidak demam\n"
     ]
    }
   ],
   "source": [
    "#latihan 3.1\n",
    "#contoh soal 3.1.1\n",
    "suhu_tbh = input(\"Masukkan suhu tubuh: \")\n",
    "try:\n",
    "    suhu = int(suhu_tbh)\n",
    "    if suhu >= 38:\n",
    "        print(\"Anda demam\")\n",
    "    else:\n",
    "        print(\"Anda tidak demam\")\n",
    "except:\n",
    "    print(\"input anda salah\")"
   ]
  },
  {
   "cell_type": "code",
   "execution_count": 31,
   "id": "6e9208d7",
   "metadata": {},
   "outputs": [
    {
     "name": "stdout",
     "output_type": "stream",
     "text": [
      "Masukan Suatu bilangan = y\n",
      "input salah!\n"
     ]
    }
   ],
   "source": [
    "#latihan 3.1 \n",
    "#contoh soal 3.1.2\n",
    "bilangan =  input(\"Masukan Suatu bilangan = \")\n",
    "try:\n",
    "    ibilangan = int(bilangan)\n",
    "    if ibilangan > 0 :\n",
    "        print(\"bilangan ini positif\")\n",
    "    elif ibilangan < 0 :\n",
    "        print(\"bilangan ini negatif\")\n",
    "    elif ibilangan == 0 :\n",
    "        print (\"NOL\")\n",
    "except :\n",
    "    print (\"input salah!\")"
   ]
  },
  {
   "cell_type": "code",
   "execution_count": 17,
   "id": "22c2f05e",
   "metadata": {},
   "outputs": [
    {
     "name": "stdout",
     "output_type": "stream",
     "text": [
      "Masukan bilangan pertama =9\n",
      "Masukan bilangan kedua =0\n",
      "Masukan bilangan Ketiga =8\n",
      "Terbesar : 9\n"
     ]
    }
   ],
   "source": [
    "#latihan 3.1\n",
    "#contoh soal 3.1.3\n",
    "a = input(\"Masukan bilangan pertama =\")\n",
    "b = input(\"Masukan bilangan kedua =\")\n",
    "c = input(\"Masukan bilangan Ketiga =\")\n",
    "\n",
    "try:\n",
    "    if a > b and a > c:\n",
    "        print(\"Terbesar :\", a)\n",
    "    elif b > a and b > c:\n",
    "        print(\"Terbesar :\",b)\n",
    "    elif c > b and c > a:\n",
    "        print (\"Terbesar :\",c)\n",
    "except:\n",
    "    print(\"Input salah!\")\n",
    "    "
   ]
  },
  {
   "cell_type": "code",
   "execution_count": 6,
   "id": "19e7e98d",
   "metadata": {},
   "outputs": [
    {
     "name": "stdout",
     "output_type": "stream",
     "text": [
      "Masukkan bilangan: -1\n",
      "Negatif\n"
     ]
    }
   ],
   "source": [
    "#latihan 3.2\n",
    "bilangan_p = input(\"Masukkan bilangan: \")\n",
    "try:\n",
    "    bilangan = int(bilangan_p)\n",
    "    print(\"Positif\") if bilangan > 0 else print(\"Negatif\")\n",
    "except:\n",
    "    print(\"masukkan input yang benar!\")"
   ]
  },
  {
   "cell_type": "code",
   "execution_count": 5,
   "id": "72f78c20",
   "metadata": {},
   "outputs": [
    {
     "name": "stdout",
     "output_type": "stream",
     "text": [
      "Masukkan bulan (dalam bilangan bulat): 1\n",
      "Jumlah hari dalam sebulan = 31 hari\n"
     ]
    }
   ],
   "source": [
    "#Latihan 3.3\n",
    "bulan_masukkan = input(\"Masukkan bulan (dalam bilangan bulat): \")\n",
    "try:\n",
    "    bulan = int(bulan_masukkan)\n",
    "    if bulan == 1 or bulan == 3 or bulan == 5 or bulan == 7 or bulan == 8 or bulan == 10 or bulan == 12:\n",
    "        print(\"Jumlah hari dalam sebulan = 31 hari\")\n",
    "    elif bulan == 4 or bulan == 6 or bulan == 9 or bulan == 11:\n",
    "        print(\"Jumlah hari dalam sebulan = 30 hari\")\n",
    "    elif bulan == 2:\n",
    "        print(\"Jumlah hari dalam sebulan = 29 hari\")\n",
    "except:\n",
    "    print(\"Masukkan input yang benar!\")"
   ]
  },
  {
   "cell_type": "code",
   "execution_count": 7,
   "id": "e6b0cb35",
   "metadata": {},
   "outputs": [
    {
     "name": "stdout",
     "output_type": "stream",
     "text": [
      "Masukkan sisi 1: 5\n",
      "Masukkan sisi 2: 5\n",
      "Masukkan sisi 3: 5\n",
      "sisi sama\n"
     ]
    }
   ],
   "source": [
    "#Latihan 3.4\n",
    "bil1 = input(\"Masukkan sisi 1: \")\n",
    "bil2 = input(\"Masukkan sisi 2: \")\n",
    "bil3 = input(\"Masukkan sisi 3: \")\n",
    "try:\n",
    "    a = int(bil1)\n",
    "    b = int(bil2)\n",
    "    c = int(bil3)\n",
    "    if a != b and a !=c and b != c:\n",
    "        print(\"tidak sama\")\n",
    "    elif a == b and b == c:\n",
    "        print(\"sisi sama\")\n",
    "    elif a == b or a == c or b == c:\n",
    "        print(\"hanya dua sisi sama\")\n",
    "except:\n",
    "    print(\"masukkan input dengan benar!\")"
   ]
  },
  {
   "cell_type": "code",
   "execution_count": null,
   "id": "e650082b",
   "metadata": {},
   "outputs": [],
   "source": []
  }
 ],
 "metadata": {
  "kernelspec": {
   "display_name": "Python 3 (ipykernel)",
   "language": "python",
   "name": "python3"
  },
  "language_info": {
   "codemirror_mode": {
    "name": "ipython",
    "version": 3
   },
   "file_extension": ".py",
   "mimetype": "text/x-python",
   "name": "python",
   "nbconvert_exporter": "python",
   "pygments_lexer": "ipython3",
   "version": "3.11.5"
  }
 },
 "nbformat": 4,
 "nbformat_minor": 5
}
